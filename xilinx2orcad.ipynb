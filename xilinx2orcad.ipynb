{
 "cells": [
  {
   "cell_type": "code",
   "execution_count": 2,
   "metadata": {},
   "outputs": [],
   "source": [
    "\n",
    "import pandas as pd\n",
    "import copy\n",
    "import os"
   ]
  },
  {
   "attachments": {},
   "cell_type": "markdown",
   "metadata": {},
   "source": [
    "把XILINX的pkg.txt文件转换为适合orcad 库输入的文件。\n",
    "\n",
    "使用前需要把pkg.txt的最后一行去掉，以及把列名字的行中的空格去掉 \n",
    "\n",
    "然后在orcad中选择 New Part Creation Spreadsheet.使用生成的exel表格复制粘贴到orcad中。 \n",
    "\n",
    "section number要选文件末尾提示的。 \n",
    "\n",
    "或者在orcad中运行生成的tcl脚本。\n",
    "\n"
   ]
  },
  {
   "cell_type": "code",
   "execution_count": 3,
   "metadata": {},
   "outputs": [],
   "source": [
    "FILE=\"xc7a100tfgg484pkg.txt\"\n",
    "PART_NAME=os.path.splitext(FILE)[0][0:-3]"
   ]
  },
  {
   "cell_type": "code",
   "execution_count": 4,
   "metadata": {},
   "outputs": [],
   "source": [
    "df=pd.read_csv(FILE,delim_whitespace=True,header=1,dtype=str)\n",
    "df.sort_values(\"Bank\",inplace=True)\n",
    "df.fillna(\"\",inplace=True)"
   ]
  },
  {
   "cell_type": "code",
   "execution_count": 5,
   "metadata": {},
   "outputs": [
    {
     "name": "stdout",
     "output_type": "stream",
     "text": [
      "{'': 'A', '0': 'B', '13': 'C', '14': 'D', '15': 'E', '16': 'F', '216': 'G', '34': 'H', '35': 'I'}\n"
     ]
    }
   ],
   "source": [
    "\n",
    "abcdstr=\"ABCDEFGHIJKLMNOPQRSTUVWXUZ\"\n",
    "bank_list = list(set( i for i in df['Bank']))\n",
    "bank_list.sort()\n",
    "section_map={ bank_list[i]:abcdstr[i]  for i in range(len(bank_list))}\n",
    "\n",
    "print(section_map)\n"
   ]
  },
  {
   "cell_type": "code",
   "execution_count": 6,
   "metadata": {},
   "outputs": [],
   "source": [
    "name_list = list(set( i for i in df['PinName']))\n",
    "name_count={v:0 for v in name_list}\n",
    "name_count_zero={v:0 for v in name_list}\n",
    "for n in df['PinName']:\n",
    "    name_count[n]=name_count[n]+1\n"
   ]
  },
  {
   "cell_type": "code",
   "execution_count": 7,
   "metadata": {},
   "outputs": [],
   "source": [
    "df2=pd.DataFrame()\n",
    "df2.insert(df2.shape[1],'Number',0)\n",
    "df2.insert(df2.shape[1],'Name','')\n",
    "df2.insert(df2.shape[1],'Type','')\n",
    "df2.insert(df2.shape[1],'Pin Visibility',True)\n",
    "df2.insert(df2.shape[1],'Shape','')\n",
    "df2.insert(df2.shape[1],'PinGroup','1')\n",
    "df2.insert(df2.shape[1],'Position','')\n",
    "df2.insert(df2.shape[1],'Section','')\n",
    "\n"
   ]
  },
  {
   "cell_type": "code",
   "execution_count": 8,
   "metadata": {},
   "outputs": [],
   "source": [
    "\n",
    "for i in range(len(df)):\n",
    "    df2.loc[i,'Number']=df.iloc[i]['Pin']\n",
    "\n",
    "    name= df.iloc[i]['PinName']\n",
    "    \n",
    "    if name_count[name]==1:\n",
    "        df2.loc[i,'Name']=name\n",
    "    else:\n",
    "        df2.loc[i,'Name']=name+\"_\"+str(name_count_zero[name])\n",
    "        name_count_zero[name]=name_count_zero[name]+1\n",
    "\n",
    "    pinname=df.iloc[i]['PinName']\n",
    "\n",
    "    if \"VCC\" in pinname or \"VTT\" in pinname:\n",
    "        df2.loc[i,'Type']=\"Power\"\n",
    "        df2.loc[i,'Shape']=\"Line\"\n",
    "        df2.loc[i,'Position']=\"Top\"\n",
    "    elif pinname.startswith(\"GND\"):\n",
    "        df2.loc[i,'Type']=\"Power\"\n",
    "        df2.loc[i,'Shape']=\"Line\"\n",
    "        df2.loc[i,'Position']=\"Bottom\"\n",
    "    else:\n",
    "        df2.loc[i,'Type']=\"Bidirectional\"\n",
    "        df2.loc[i,'Shape']=\"Line\"\n",
    "        df2.loc[i,'Position']=\"Right\"\n",
    "    df2.loc[i,'Section']=section_map[df.iloc[i]['Bank']]\n",
    "    df2.loc[i,'Pin Visibility']=\"1\"\n",
    "    df2.loc[i,'PinGroup']=\"1\"\n",
    "    if \"CLK\" in pinname or \"MRCC\" in pinname or \"DQS\" in pinname or \"SRCC\" in pinname: \n",
    "        df2.loc[i,'Shape']=\"Clock\""
   ]
  },
  {
   "cell_type": "code",
   "execution_count": 9,
   "metadata": {},
   "outputs": [],
   "source": [
    "df2.sort_values(\"Name\",inplace=True)\n",
    "df2.to_excel(\"pin.xlsx\")"
   ]
  },
  {
   "cell_type": "code",
   "execution_count": 10,
   "metadata": {},
   "outputs": [
    {
     "name": "stdout",
     "output_type": "stream",
     "text": [
      "87\n",
      "87\n"
     ]
    }
   ],
   "source": [
    "print(name_count_zero[\"GND\"])\n",
    "print(name_count[\"GND\"])"
   ]
  },
  {
   "cell_type": "code",
   "execution_count": 11,
   "metadata": {},
   "outputs": [
    {
     "name": "stdout",
     "output_type": "stream",
     "text": [
      "total Section is  9\n"
     ]
    }
   ],
   "source": [
    "print('total Section is ' ,len(section_map))"
   ]
  },
  {
   "cell_type": "code",
   "execution_count": null,
   "metadata": {},
   "outputs": [],
   "source": []
  },
  {
   "cell_type": "code",
   "execution_count": null,
   "metadata": {},
   "outputs": [],
   "source": []
  },
  {
   "cell_type": "code",
   "execution_count": 12,
   "metadata": {},
   "outputs": [
    {
     "data": {
      "text/plain": [
       "'xc7a100tfgg484'"
      ]
     },
     "execution_count": 12,
     "metadata": {},
     "output_type": "execute_result"
    }
   ],
   "source": [
    "PART_NAME"
   ]
  },
  {
   "cell_type": "code",
   "execution_count": 14,
   "metadata": {},
   "outputs": [],
   "source": [
    "with open(PART_NAME+\".tcl\",\"w\") as f:\n",
    "    print('''capCreatePartsFromData \"True\"  ''' + PART_NAME +\".olb [list [list\",file=f,end='\\\\\\n')\n",
    "    print(\"[list \"+PART_NAME+\" \" +str(len(section_map)) +\" U 1 ]\" ,file=f,end='\\\\\\n')\n",
    "    for i in range(len(df2)):\n",
    "        print(\"[list \"+df2.loc[i,'Number'] +\" \" \n",
    "              +\"\\\"\"+df2.loc[i,'Name'] +\"\\\" \"\n",
    "              +\"\\\"\"+df2.loc[i,'Type'] +\"\\\" \"\n",
    "              +\"\\\"\"+df2.loc[i,'Pin Visibility'] +\"\\\" \"\n",
    "              +\"\\\"\"+df2.loc[i,'Shape'] +\"\\\" \"\n",
    "              +\"\\\"\"+str(df2.loc[i,'PinGroup']) +\"\\\" \"\n",
    "              +\"\\\"\"+df2.loc[i,'Position'] +\"\\\" \"\n",
    "              +\"\\\"\"+df2.loc[i,'Section'] +\"\\\" \"\n",
    "              +\" ]\" ,file=f,end='\\\\\\n')\n",
    "    print(\"]]\",file=f)\n",
    "    print(\"puts \\\"\" +PART_NAME+\".olb\" + \" in dir [pwd] \\\"\" ,file=f)"
   ]
  },
  {
   "cell_type": "code",
   "execution_count": null,
   "metadata": {},
   "outputs": [],
   "source": []
  }
 ],
 "metadata": {
  "kernelspec": {
   "display_name": "venv",
   "language": "python",
   "name": "python3"
  },
  "language_info": {
   "codemirror_mode": {
    "name": "ipython",
    "version": 3
   },
   "file_extension": ".py",
   "mimetype": "text/x-python",
   "name": "python",
   "nbconvert_exporter": "python",
   "pygments_lexer": "ipython3",
   "version": "3.8.10"
  },
  "orig_nbformat": 4
 },
 "nbformat": 4,
 "nbformat_minor": 2
}
