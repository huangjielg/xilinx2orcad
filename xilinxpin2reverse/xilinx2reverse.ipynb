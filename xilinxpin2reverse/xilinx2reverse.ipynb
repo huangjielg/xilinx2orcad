{
 "cells": [
  {
   "cell_type": "code",
   "execution_count": 1,
   "metadata": {},
   "outputs": [],
   "source": [
    "\n",
    "import pandas as pd\n",
    "import copy\n",
    "import os\n",
    "import math"
   ]
  },
  {
   "attachments": {},
   "cell_type": "markdown",
   "metadata": {},
   "source": [
    "把XILINX的pkg.txt文件转换为适合测试管脚输入文件。 \n",
    "\n",
    "使用前需要把pkg.txt的最后一行去掉，以及把列名字的行中的空格去掉\n",
    "\n",
    "\n",
    "\n"
   ]
  },
  {
   "cell_type": "code",
   "execution_count": null,
   "metadata": {},
   "outputs": [],
   "source": []
  },
  {
   "cell_type": "code",
   "execution_count": 10,
   "metadata": {},
   "outputs": [],
   "source": [
    "CLK_PIN=\"AJ11\"\n",
    "CLK_PIN_P=\"\"\n",
    "CLK_PIN_N=\"\"\n",
    "CLK_IO_STANDARD=\"lvcmos18\"\n",
    "CLK_DIFF_IO_STANDARD=\"DIFF_HSTL_II_18\"\n",
    "DATA_IO_STANDARD=\"lvcmos18\"\n",
    "CLK_FREQ=50e6"
   ]
  },
  {
   "cell_type": "code",
   "execution_count": 3,
   "metadata": {},
   "outputs": [],
   "source": [
    "FILE=\"xc7vx415tffg1157pkg.txt\"\n",
    "PART_NAME=os.path.splitext(FILE)[0][0:-3]"
   ]
  },
  {
   "cell_type": "code",
   "execution_count": 4,
   "metadata": {},
   "outputs": [],
   "source": [
    "df=pd.read_csv(FILE,delim_whitespace=True,header=1,dtype=str)\n",
    "df.sort_values(\"Bank\",inplace=True)\n",
    "df.fillna(\"\",inplace=True)"
   ]
  },
  {
   "cell_type": "code",
   "execution_count": 5,
   "metadata": {},
   "outputs": [],
   "source": [
    "pinname2order=list()"
   ]
  },
  {
   "cell_type": "code",
   "execution_count": 6,
   "metadata": {},
   "outputs": [],
   "source": [
    "fxdc=open(\"pin.xdc\",\"w\")\n",
    "n=0\n",
    "for i in df.index:\n",
    "    sname=df.iloc[i]['PinName']\n",
    "    pin = df.iloc[i]['Pin']\n",
    "    if pin==CLK_PIN:\n",
    "            print(f\"set_property PACKAGE_PIN  {pin} [get_ports clk]\",file=fxdc)\n",
    "            print(f\"set_property IOSTANDARD  {CLK_IO_STANDARD} [get_ports clk]\",file=fxdc)\n",
    "    elif pin==CLK_PIN_P:\n",
    "            print(f\"set_property PACKAGE_PIN  {pin} [get_ports clk_p]\",file=fxdc)\n",
    "            print(f\"set_property IOSTANDARD  {CLK_DIFF_IO_STANDARD} [get_ports clk_p]\",file=fxdc)\n",
    "    elif pin==CLK_PIN_N:\n",
    "            print(f\"set_property PACKAGE_PIN  {pin} [get_ports clk_n]\",file=fxdc)\n",
    "            print(f\"set_property IOSTANDARD  {CLK_DIFF_IO_STANDARD} [get_ports clk_n]\",file=fxdc)\n",
    "    elif(len(sname.strip())):\n",
    "        if sname.startswith(\"IO_\"):\n",
    "            \n",
    "            pinname2order.append(pin)\n",
    "            print(f\"set_property PACKAGE_PIN  {pin} [get_ports data[{n}]]\",file=fxdc)\n",
    "            print(f\"set_property IOSTANDARD   {DATA_IO_STANDARD} [get_ports data[{n}]]\",file=fxdc)\n",
    "            n=n+1\n",
    "fxdc.close()    "
   ]
  },
  {
   "cell_type": "code",
   "execution_count": 7,
   "metadata": {},
   "outputs": [],
   "source": [
    "f=open(\"mem_init.vh\",\"w\")\n",
    "for index in range(len(pinname2order)):\n",
    "    sname=f\"data[{index}]\"\n",
    "    pin = pinname2order[index]\n",
    "    #print(ls)\n",
    "    s=pin\n",
    "    if(len(s)<4):\n",
    "        s=s+' '*(4-len(s))\n",
    "    b=\"2'b11};\"\n",
    "    \n",
    "    for i in range(4):\n",
    "        b=\"1'b0,\"+b\n",
    "        b=\"\\\"\"+s[i]+\"\\\",\"+b\n",
    "        \n",
    "        \n",
    "        b=\"2'b11,\"+b\n",
    "    b=\"{\"+b\n",
    "    \n",
    "    print(\"mem[{0}]={1}\".format(index,b),file=f)\n",
    "f.close()"
   ]
  },
  {
   "cell_type": "code",
   "execution_count": 11,
   "metadata": {},
   "outputs": [],
   "source": [
    "with open(\"define.vh\",\"w\") as f:\n",
    "    print(f\"`define BAUD_DIV {int(CLK_FREQ/115200-1)}\",file=f)\n",
    "    print(f\"`define N_PINS {len(pinname2order)}\",file=f)\n",
    "    print(f\"`define N_PINS_WIDTH {math.ceil( math.log2(len(pinname2order)))}\",file=f)\n",
    "    if CLK_PIN_N!=\"\":\n",
    "        print(f\"`define CLK_IS_DIFF \",file=f)\n",
    "        "
   ]
  },
  {
   "cell_type": "code",
   "execution_count": null,
   "metadata": {},
   "outputs": [],
   "source": []
  },
  {
   "cell_type": "code",
   "execution_count": null,
   "metadata": {},
   "outputs": [],
   "source": []
  },
  {
   "cell_type": "code",
   "execution_count": null,
   "metadata": {},
   "outputs": [],
   "source": []
  }
 ],
 "metadata": {
  "kernelspec": {
   "display_name": "venv",
   "language": "python",
   "name": "python3"
  },
  "language_info": {
   "codemirror_mode": {
    "name": "ipython",
    "version": 3
   },
   "file_extension": ".py",
   "mimetype": "text/x-python",
   "name": "python",
   "nbconvert_exporter": "python",
   "pygments_lexer": "ipython3",
   "version": "3.8.10"
  },
  "orig_nbformat": 4
 },
 "nbformat": 4,
 "nbformat_minor": 2
}
