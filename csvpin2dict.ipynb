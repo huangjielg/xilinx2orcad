{
 "cells": [
  {
   "cell_type": "code",
   "execution_count": 7,
   "metadata": {},
   "outputs": [],
   "source": [
    "import pandas as pd\n",
    "import os"
   ]
  },
  {
   "attachments": {},
   "cell_type": "markdown",
   "metadata": {},
   "source": [
    "Open Elaborated Design\n",
    "\n",
    "Go to \"File -> Export -> Export I/O Ports\" and select CSV to export\n",
    "\n",
    "来产生本脚本需要的CSV。\n",
    "\n"
   ]
  },
  {
   "cell_type": "code",
   "execution_count": 8,
   "metadata": {},
   "outputs": [],
   "source": [
    "FILE=\"e:/project/fpga-usb/fpga/example/mig_7series_0_ex/impl_1.csv\"\n",
    "#TCL_FILE=os.path.dirname(FILE)+os.path.splitext(FILE)[0]+'.tcl'\n",
    "TCL_FILE=\"Table.tcl\"\n"
   ]
  },
  {
   "cell_type": "code",
   "execution_count": null,
   "metadata": {},
   "outputs": [],
   "source": []
  },
  {
   "cell_type": "code",
   "execution_count": 9,
   "metadata": {},
   "outputs": [],
   "source": [
    "df=pd.read_csv(FILE,header=5)"
   ]
  },
  {
   "cell_type": "code",
   "execution_count": 10,
   "metadata": {},
   "outputs": [],
   "source": [
    "with open(TCL_FILE,'w') as f:\n",
    "    print(\"set number2netdict [dict create]\",file=f)\n",
    "    for i in range(len(df)):\n",
    "        name = df.iloc[i]['Signal Name']\n",
    "        \n",
    "        if type(name) is str:\n",
    "            name.strip()\n",
    "            if len(name):\n",
    "                pinnumber=df.iloc[i]['Pin Number']\n",
    "                print (\"dict append number2netdict \" + \"{\" + str(pinnumber) + \"}\"  + \"  {\" + str(name) + \"}\"  ,file=f)\n"
   ]
  },
  {
   "cell_type": "code",
   "execution_count": null,
   "metadata": {},
   "outputs": [],
   "source": []
  }
 ],
 "metadata": {
  "kernelspec": {
   "display_name": "venv",
   "language": "python",
   "name": "python3"
  },
  "language_info": {
   "codemirror_mode": {
    "name": "ipython",
    "version": 3
   },
   "file_extension": ".py",
   "mimetype": "text/x-python",
   "name": "python",
   "nbconvert_exporter": "python",
   "pygments_lexer": "ipython3",
   "version": "3.8.10"
  },
  "orig_nbformat": 4
 },
 "nbformat": 4,
 "nbformat_minor": 2
}
